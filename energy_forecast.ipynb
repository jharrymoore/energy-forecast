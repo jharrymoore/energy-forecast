{
 "cells": [
  {
   "cell_type": "code",
   "execution_count": 80,
   "id": "b70ec795",
   "metadata": {},
   "outputs": [],
   "source": [
    "import numpy as np\n",
    "import matplotlib.pyplot as plt\n",
    "from typing import List, Tuple, Dict"
   ]
  },
  {
   "cell_type": "code",
   "execution_count": 167,
   "id": "f3c27477",
   "metadata": {},
   "outputs": [],
   "source": [
    "class Tariff:\n",
    "    def __init__(\n",
    "        self,\n",
    "        gas_sc: float,\n",
    "        elec_sc: float,\n",
    "        elec_unit: float,\n",
    "        gas_unit: float,\n",
    "        price_cap_schedule: List,\n",
    "        buffer: int,\n",
    "    ):\n",
    "        self.gas_sc = gas_sc\n",
    "        self.elec_sc = elec_sc\n",
    "        self.elec_unit = elec_unit\n",
    "        self.gas_unit = gas_unit\n",
    "        self.price_cap_schedule = price_cap_schedule\n",
    "        self.buffer = buffer\n",
    "        self.monthly_elec_units, self.monthly_gas_units = self.project_unit_prices()\n",
    "\n",
    "    def daily_cost(self, gas_usage: float, elec_usage: float) -> float:\n",
    "        return self.gas_daily_cost(gas_usage) + self.elec_daily_cost(elec_usage)\n",
    "\n",
    "    def gas_daily_cost(self, gas_usage: float) -> float:\n",
    "        return self.gas_sc + self.gas_unit * gas_usage\n",
    "\n",
    "    def elec_daily_cost(self, elec_usage: float) -> float:\n",
    "        return self.elec_sc + self.elec_unit * elec_usage\n",
    "\n",
    "    def period_cost(self, days: int, gas_usage: float, elec_usage: float) -> float:\n",
    "        # sum total cost over period\n",
    "        daily_gas = gas_usage / days\n",
    "        daily_elec = elec_usage / days\n",
    "        return self.daily_cost(daily_gas, daily_elec) / 100\n",
    "\n",
    "    def increase_unit_rate(self, frac: float) -> None:\n",
    "        # update the unit rates\n",
    "        self.elec_unit += self.elec_unit * frac\n",
    "        self.gas_unit += self.gas_unit * frac\n",
    "\n",
    "    def project_unit_prices(self) -> Tuple[List, List]:\n",
    "        \"\"\"Incorperate projected 3-monthly price cap rises into forecast\n",
    "\n",
    "        :return Tuple[List, List]: gas + elec monthly unit charges\n",
    "        \"\"\"\n",
    "        # self.price_cap_schedule contains 3-monthly projected changes in unit charges\n",
    "        monthly_elec_units = [self.elec_unit for _ in range(12)]\n",
    "        monthly_gas_units = [self.gas_unit for _ in range(12)]\n",
    "        for idx, buf in enumerate([0, 3, 6, 9]):\n",
    "            monthly_elec_units[self.buffer + buf :] = [\n",
    "                i * self.price_cap_schedule[idx]\n",
    "                for i in monthly_elec_units[self.buffer + buf :]\n",
    "            ]\n",
    "            monthly_gas_units[self.buffer + buf :] = [\n",
    "                i * self.price_cap_schedule[idx]\n",
    "                for i in monthly_gas_units[self.buffer + buf :]\n",
    "            ]\n",
    "        return monthly_elec_units, monthly_gas_units\n",
    "\n",
    "    def run_annual_forecast(self, elec_usage: List, gas_usage: List) -> Dict:\n",
    "\n",
    "        # predict monthly costs\n",
    "        gas_usage = np.array(gas_usage)\n",
    "        elec_usage = np.array(elec_usage)\n",
    "        monthly_elec = []\n",
    "        monthly_gas = []\n",
    "        for i in range(12):\n",
    "            monthly_gas.append(\n",
    "                self.gas_sc * 30.437 + self.monthly_gas_units[i] * gas_usage[i]\n",
    "            )\n",
    "            monthly_elec.append(\n",
    "                self.elec_sc * 30.437 + self.monthly_elec_units[i] * elec_usage[i]\n",
    "            )\n",
    "        monthly_elec = np.array(monthly_elec) / 100\n",
    "        monthly_gas = np.array(monthly_gas) / 100\n",
    "        total_gas = np.round(np.sum(monthly_gas), 2)\n",
    "        total_elec = np.round(np.sum(monthly_elec), 2)\n",
    "        print(\n",
    "            \"Total annual gas:    £\",\n",
    "            total_gas,\n",
    "            \"\\nTotal annual elec:   £\",\n",
    "            total_elec,\n",
    "            \"\\n-------------------------------\",\n",
    "            \"\\nTotal annual energy: £\",\n",
    "            total_gas + total_elec,\n",
    "            \"\\n\\n\"\n",
    "        )\n",
    "        return {\"gas\": monthly_gas, \"elec\": monthly_elec}, total_elec + total_gas"
   ]
  },
  {
   "cell_type": "code",
   "execution_count": 195,
   "id": "a829f8f1",
   "metadata": {},
   "outputs": [],
   "source": [
    "evergreen = Tariff(\n",
    "    # elec_sc=41.66,\n",
    "    # gas_sc=27.22,\n",
    "    elec_sc=48.18,\n",
    "    gas_sc=27.53,\n",
    "    elec_unit=29.29,\n",
    "    gas_unit=7.32,\n",
    "    price_cap_schedule=[1.82, 1.19, 1.04, 0.86],\n",
    "    buffer=1,\n",
    ")"
   ]
  },
  {
   "cell_type": "code",
   "execution_count": 196,
   "id": "ce5df6b9",
   "metadata": {},
   "outputs": [],
   "source": [
    "fixed = Tariff(\n",
    "    elec_sc=48.18,\n",
    "    gas_sc=27.53,\n",
    "    elec_unit=58.59,\n",
    "    gas_unit=16.74,\n",
    "    price_cap_schedule=[1, 1, 1, 1],\n",
    "    buffer=0,\n",
    ")"
   ]
  },
  {
   "cell_type": "code",
   "execution_count": 197,
   "id": "6c5e7947",
   "metadata": {},
   "outputs": [],
   "source": [
    "gas_rng = range(10000, 14000, 1000)\n",
    "elec_rng = range(2000, 5000, 1000)"
   ]
  },
  {
   "cell_type": "code",
   "execution_count": 198,
   "id": "856e9559",
   "metadata": {},
   "outputs": [],
   "source": [
    "# flex_data = []\n",
    "# for g in gas_rng:\n",
    "#     for e in elec_rng:\n",
    "#         _, total = evergreen.run_annual_forecast(\n",
    "#             elec_usage=[e / 12 for _ in range(12)],\n",
    "#             gas_usage=[g / 12 for _ in range(12)],\n",
    "#         )\n",
    "#         flex_data.append(total)"
   ]
  },
  {
   "cell_type": "code",
   "execution_count": 199,
   "id": "60a4c5ee",
   "metadata": {},
   "outputs": [],
   "source": [
    "# fix_data = []\n",
    "# for g in gas_rng:\n",
    "#     for e in elec_rng:\n",
    "#         _, total = fixed.run_annual_forecast(\n",
    "#             elec_usage=[e / 12 for _ in range(12)],\n",
    "#             gas_usage=[g / 12 for _ in range(12)],\n",
    "#         )\n",
    "#         fix_data.append(total)"
   ]
  },
  {
   "cell_type": "code",
   "execution_count": 200,
   "id": "9b31a7da",
   "metadata": {},
   "outputs": [
    {
     "data": {
      "image/png": "[encoded data removed]",
      "text/plain": [
       "<Figure size 576x576 with 1 Axes>"
      ]
     },
     "metadata": {
      "needs_background": "light"
     },
     "output_type": "display_data"
    }
   ],
   "source": [
    "fig, ax = plt.subplots(figsize=(8, 8))\n",
    "ax.scatter([x for x in range(len(fix_data))], np.array(fix_data) - np.array(flex_data))\n",
    "ax.set_ylabel(\"fixed - flexible\")\n",
    "ax.set_xlabel(\"configuration\")\n",
    "plt.show()"
   ]
  },
  {
   "cell_type": "code",
   "execution_count": 201,
   "id": "d4389150",
   "metadata": {},
   "outputs": [
    {
     "name": "stdout",
     "output_type": "stream",
     "text": [
      "Total annual gas:    £ 2109.35 \n",
      "Total annual elec:   £ 1640.72 \n",
      "------------------------------- \n",
      "Total annual energy: £ 3750.0699999999997 \n",
      "\n",
      "\n",
      "Total annual gas:    £ 1827.26 \n",
      "Total annual elec:   £ 1615.39 \n",
      "------------------------------- \n",
      "Total annual energy: £ 3442.65 \n",
      "\n",
      "\n"
     ]
    },
    {
     "data": {
      "image/png": "[encoded data removed]",
      "text/plain": [
       "<Figure size 1440x576 with 2 Axes>"
      ]
     },
     "metadata": {
      "needs_background": "light"
     },
     "output_type": "display_data"
    }
   ],
   "source": [
    "fig, axes = plt.subplots(1, 2, figsize=(20, 8), sharey=True)\n",
    "data = [\n",
    "    fixed.run_annual_forecast(\n",
    "        elec_usage=[2500 / 12 for _ in range(12)],\n",
    "        gas_usage=[12000 / 12 for _ in range(12)],\n",
    "    ),\n",
    "    evergreen.run_annual_forecast(\n",
    "        elec_usage=[2500 / 12 for _ in range(12)],\n",
    "        gas_usage=[12000 / 12 for _ in range(12)],\n",
    "    ),\n",
    "]\n",
    "title = [\"v34\", \"flex\"]\n",
    "for idx, ax in enumerate(axes.flatten()):\n",
    "    x = [i for i in range(12)]\n",
    "    ax.bar([i - 0.2 for i in x], data[idx][0][\"elec\"], width=0.4, label=\"elec usage\")\n",
    "    ax.bar([i + 0.2 for i in x], data[idx][0][\"gas\"], width=0.4, label=\"gas usage\")\n",
    "    ax.legend()\n",
    "    ax.set_title(title[idx])\n",
    "    ax.set_ylabel(\"Monthly cost / £\")\n",
    "    ax.set_xlabel(\"Month\")\n",
    "plt.show()"
   ]
  },
  {
   "cell_type": "code",
   "execution_count": null,
   "id": "d1f9c273",
   "metadata": {},
   "outputs": [],
   "source": []
  }
 ],
 "metadata": {
  "kernelspec": {
   "display_name": "Python 3 (ipykernel)",
   "language": "python",
   "name": "python3"
  },
  "language_info": {
   "codemirror_mode": {
    "name": "ipython",
    "version": 3
   },
   "file_extension": ".py",
   "mimetype": "text/x-python",
   "name": "python",
   "nbconvert_exporter": "python",
   "pygments_lexer": "ipython3",
   "version": "3.9.10"
  },
  "vscode": {
   "interpreter": {
    "hash": "c5daaf0bccbfab20621ac6e6e2233126fca35fbd9c88d5a54343a3939c477943"
   }
  }
 },
 "nbformat": 4,
 "nbformat_minor": 5
}
